{
 "cells": [
  {
   "cell_type": "code",
   "execution_count": 1,
   "metadata": {},
   "outputs": [
    {
     "name": "stderr",
     "output_type": "stream",
     "text": [
      "\u001b[32m\u001b[1m  Activating\u001b[22m\u001b[39m environment at `~/JuliaProjects/Clustering-ToMaTo/Project.toml`\n",
      "\u001b[32m\u001b[1m    Updating\u001b[22m\u001b[39m registry at `~/.julia/registries/General`\n",
      "\u001b[32m\u001b[1m  No Changes\u001b[22m\u001b[39m to `~/JuliaProjects/Clustering-ToMaTo/Project.toml`\n",
      "\u001b[32m\u001b[1m  No Changes\u001b[22m\u001b[39m to `~/JuliaProjects/Clustering-ToMaTo/Manifest.toml`\n"
     ]
    }
   ],
   "source": [
    "using Pkg\n",
    "Pkg.activate(@__DIR__)\n",
    "Pkg.update()\n",
    "Pkg.instantiate()"
   ]
  },
  {
   "cell_type": "code",
   "execution_count": 2,
   "metadata": {},
   "outputs": [],
   "source": [
    "using Plots\n",
    "using DelimitedFiles\n",
    "using Revise"
   ]
  },
  {
   "cell_type": "code",
   "execution_count": 3,
   "metadata": {
    "scrolled": true
   },
   "outputs": [],
   "source": [
    "using ClusteringToMaTo"
   ]
  },
  {
   "cell_type": "markdown",
   "metadata": {},
   "source": [
    "[Link to download the two datasets (spiral and toy) on GitHub](https://github.com/MathieuCarriere/sklearn-tda/blob/master/example/inputs/spiral_w_o_density.txt)"
   ]
  },
  {
   "cell_type": "code",
   "execution_count": 4,
   "metadata": {},
   "outputs": [
    {
     "data": {
      "text/plain": [
       "114562×2 Matrix{Float64}:\n",
       "    2.728     6.513\n",
       "    3.776    26.114\n",
       "    5.595    38.47\n",
       "    4.848    61.27\n",
       "    5.857    81.778\n",
       "    1.643   206.001\n",
       "    4.307   372.097\n",
       "    1.984   443.329\n",
       "    5.751   495.21\n",
       "    2.269   776.646\n",
       "    1.497   811.946\n",
       "    4.572  1036.59\n",
       "    5.993  1050.06\n",
       "    ⋮      \n",
       " 2005.74   1245.62\n",
       " 2003.23   1303.05\n",
       " 2001.88   1312.34\n",
       " 2001.21   1408.72\n",
       " 2005.39   1430.34\n",
       " 2005.03   1565.79\n",
       " 2004.61   1676.7\n",
       " 2005.79   1758.46\n",
       " 2003.8    1766.93\n",
       " 2003.23   1849.23\n",
       " 2003.95   1928.41\n",
       " 2004.09   1966.77"
      ]
     },
     "execution_count": 4,
     "metadata": {},
     "output_type": "execute_result"
    }
   ],
   "source": [
    "Sp = readdlm(joinpath(\"spiral_w_o_density.txt\"))"
   ]
  },
  {
   "cell_type": "code",
   "execution_count": 5,
   "metadata": {},
   "outputs": [
    {
     "data": {
      "text/plain": [
       "114562"
      ]
     },
     "execution_count": 5,
     "metadata": {},
     "output_type": "execute_result"
    }
   ],
   "source": [
    "size(Sp,1)"
   ]
  },
  {
   "cell_type": "code",
   "execution_count": 14,
   "metadata": {},
   "outputs": [],
   "source": [
    "options = (ms=3,aspect_ratio=:equal, markerstrokewidth=0.1)\n",
    "scatter(Sp[:,1],Sp[:,2]; options...)\n",
    "savefig(\"spiral.png\") # Too much points so we save the plot as image"
   ]
  },
  {
   "cell_type": "markdown",
   "metadata": {},
   "source": [
    "Display image saved above\n",
    "\n",
    "![spiral](spiral.png)"
   ]
  },
  {
   "cell_type": "code",
   "execution_count": null,
   "metadata": {},
   "outputs": [],
   "source": [
    "@time S = data2clust(Sp, 2, 87, 87, 7.5*10.0^(-7))"
   ]
  },
  {
   "cell_type": "code",
   "execution_count": 19,
   "metadata": {},
   "outputs": [],
   "source": [
    "s1, s2 = getindex.(S, 2)\n",
    "\n",
    "scatter(Sp[s1,1], Sp[s1,2]; options...)\n",
    "scatter!(Sp[s2,1], Sp[s2,2]; options...)\n",
    "savefig(\"spiral_clusters.png\") # Too much points so we save the plot as image"
   ]
  },
  {
   "cell_type": "markdown",
   "metadata": {},
   "source": [
    "Display image saved above\n",
    "\n",
    "\n",
    "![spiral clusters](spiral_clusters.png)"
   ]
  },
  {
   "cell_type": "code",
   "execution_count": 16,
   "metadata": {},
   "outputs": [
    {
     "data": {
      "text/plain": [
       "10000×2 Matrix{Float64}:\n",
       " 0.392345  1.24778\n",
       " 5.40588   2.40142\n",
       " 0.215228  1.26093\n",
       " 2.55846   7.2899\n",
       " 7.68145   5.20131\n",
       " 7.9544    5.56682\n",
       " 1.04503   0.972434\n",
       " 8.27421   0.8324\n",
       " 6.75117   2.93281\n",
       " 4.60815   1.14835\n",
       " 2.25166   6.78419\n",
       " 6.19925   3.40838\n",
       " 8.37206   4.45341\n",
       " ⋮         \n",
       " 6.81138   3.69013\n",
       " 2.98581   5.77623\n",
       " 6.28161   7.33438\n",
       " 0.469903  0.963681\n",
       " 9.58494   1.69296\n",
       " 5.75404   4.22103\n",
       " 7.7235    6.26742\n",
       " 2.60596   3.3929\n",
       " 8.62843   9.36162\n",
       " 2.99077   7.13162\n",
       " 1.11412   8.71054\n",
       " 5.19651   7.12939"
      ]
     },
     "execution_count": 16,
     "metadata": {},
     "output_type": "execute_result"
    }
   ],
   "source": [
    "toy = readdlm(joinpath(\"toy_example_w_o_density.txt\"))"
   ]
  },
  {
   "cell_type": "code",
   "execution_count": 17,
   "metadata": {},
   "outputs": [],
   "source": [
    "options = (ms=3,aspect_ratio=:equal, markerstrokewidth=0.1)\n",
    "scatter(toy[:,1],toy[:,2]; options...)\n",
    "savefig(\"toy_example.png\")"
   ]
  },
  {
   "cell_type": "markdown",
   "metadata": {},
   "source": [
    "![toy](toy_example.png)"
   ]
  },
  {
   "cell_type": "code",
   "execution_count": null,
   "metadata": {},
   "outputs": [],
   "source": [
    "@time sol = data2clust(toy, 2, 2, 30, 0.005)"
   ]
  },
  {
   "cell_type": "code",
   "execution_count": 18,
   "metadata": {},
   "outputs": [],
   "source": [
    "p = plot()\n",
    "for s in getindex.(sol,2)\n",
    "    scatter!(p, toy[s,1],toy[s,2]; options... )\n",
    "end\n",
    "\n",
    "savefig(\"toy_example_clusters.png\")"
   ]
  },
  {
   "cell_type": "markdown",
   "metadata": {},
   "source": [
    "![clusters](toy_example_clusters.png)"
   ]
  }
 ],
 "metadata": {
  "@webio": {
   "lastCommId": null,
   "lastKernelId": null
  },
  "kernelspec": {
   "display_name": "Julia 1.6.3",
   "language": "julia",
   "name": "julia-1.6"
  },
  "language_info": {
   "file_extension": ".jl",
   "mimetype": "application/julia",
   "name": "julia",
   "version": "1.6.3"
  }
 },
 "nbformat": 4,
 "nbformat_minor": 2
}
