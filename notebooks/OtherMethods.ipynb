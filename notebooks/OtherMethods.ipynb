{
 "cells": [
  {
   "cell_type": "code",
   "execution_count": 3,
   "metadata": {},
   "outputs": [],
   "source": [
    "using Clustering,Plots"
   ]
  },
  {
   "cell_type": "code",
   "execution_count": 4,
   "metadata": {},
   "outputs": [
    {
     "data": {
      "text/plain": [
       "doitall1 (generic function with 1 method)"
      ]
     },
     "execution_count": 4,
     "metadata": {},
     "output_type": "execute_result"
    }
   ],
   "source": [
    "function doitall1(X::Array,n::Int,itr::Int,msize::Number,name::String)\n",
    "    R = kmeans(X', n; maxiter=itr);\n",
    "    a=assignments(R);\n",
    "    A=[Array{Int64,1}() for i=1:n]\n",
    "    for i=1:size(X,1)\n",
    "        for j=1:n\n",
    "            if a[i]==j\n",
    "                push!(A[j],i)\n",
    "            end\n",
    "        end\n",
    "    end\n",
    "    #=\n",
    "    plt=scatter()\n",
    "    for i=1:n\n",
    "        plt=scatter!(X[A[i],1,],X[A[i],2],ms=msize,markerstrokewidth=0.1,label=\"\",aspect_ratio=:equal)\n",
    "    end\n",
    "    savefig(plt,name)\n",
    "    =#\n",
    "end"
   ]
  },
  {
   "cell_type": "code",
   "execution_count": 5,
   "metadata": {},
   "outputs": [
    {
     "data": {
      "text/plain": [
       "doitall2 (generic function with 1 method)"
      ]
     },
     "execution_count": 5,
     "metadata": {},
     "output_type": "execute_result"
    }
   ],
   "source": [
    "function doitall2(X::Array,n::Int,itr::Int,msize::Number,name::String)\n",
    "    R = kmeans(X', n; maxiter=itr);\n",
    "    a=assignments(R);\n",
    "    A=[Array{Int64,1}() for i=1:n]\n",
    "    for i=1:size(X,1)\n",
    "        for j=1:n\n",
    "            if a[i]==j\n",
    "                push!(A[j],i)\n",
    "            end\n",
    "        end\n",
    "    end\n",
    "    if size(X,2)==2\n",
    "        gr()\n",
    "        plt=scatter()\n",
    "        for i=1:n\n",
    "            plt=scatter!(X[A[i],1,],X[A[i],2],ms=msize,markerstrokewidth=0.1,label=\"\",aspect_ratio=:equal)\n",
    "        end\n",
    "    elseif size(X,2)==3\n",
    "        pyplot()\n",
    "        plt=scatter()\n",
    "        for i=1:n\n",
    "            plt=scatter!(X[A[i],1],X[A[i],2],X[A[i],3], ms=msize,markerstrokewidth=0.1,label=\"\",aspect_ratio=:equal)\n",
    "        end\n",
    "    end\n",
    "    savefig(plt,name)\n",
    "end"
   ]
  },
  {
   "cell_type": "code",
   "execution_count": 28,
   "metadata": {},
   "outputs": [
    {
     "data": {
      "text/plain": [
       "114562"
      ]
     },
     "execution_count": 28,
     "metadata": {},
     "output_type": "execute_result"
    }
   ],
   "source": [
    "X=readdlm(\".\\\\spiral_w_o_density.txt\");size(X,1)"
   ]
  },
  {
   "cell_type": "code",
   "execution_count": 48,
   "metadata": {},
   "outputs": [
    {
     "name": "stdout",
     "output_type": "stream",
     "text": [
      "  0.135408 seconds (12.54 k allocations: 40.239 MiB, 8.73% gc time)\n"
     ]
    }
   ],
   "source": [
    "@time doitall1(X,2,100,0.05,\"spiral_km\")"
   ]
  },
  {
   "cell_type": "code",
   "execution_count": 29,
   "metadata": {},
   "outputs": [],
   "source": [
    "X=readdlm(\".\\\\FCPS\\\\01FCPSdata\\\\TwoDiamonds.txt\");"
   ]
  },
  {
   "cell_type": "code",
   "execution_count": 30,
   "metadata": {},
   "outputs": [
    {
     "name": "stdout",
     "output_type": "stream",
     "text": [
      "  0.000126 seconds (67 allocations: 95.406 KiB)\n"
     ]
    }
   ],
   "source": [
    "@time doitall1(X,2,100,4,\"TwoDiamonds_km\")"
   ]
  },
  {
   "cell_type": "code",
   "execution_count": 31,
   "metadata": {},
   "outputs": [],
   "source": [
    "X=readdlm(\".\\\\FCPS\\\\01FCPSdata\\\\Lsun.txt\");"
   ]
  },
  {
   "cell_type": "code",
   "execution_count": 32,
   "metadata": {},
   "outputs": [
    {
     "name": "stdout",
     "output_type": "stream",
     "text": [
      "  0.000389 seconds (195 allocations: 154.328 KiB)\n"
     ]
    }
   ],
   "source": [
    "@time doitall1(X,3,100,5,\"Lsun_km\")"
   ]
  },
  {
   "cell_type": "code",
   "execution_count": 56,
   "metadata": {},
   "outputs": [
    {
     "name": "stdout",
     "output_type": "stream",
     "text": [
      "  0.039401 seconds (186.17 k allocations: 5.226 MiB)\n"
     ]
    }
   ],
   "source": [
    "@time doitall2(X,3,100,5,\"Lsun_km\")"
   ]
  },
  {
   "cell_type": "code",
   "execution_count": 10,
   "metadata": {},
   "outputs": [],
   "source": [
    "X=readdlm(\".\\\\FCPS\\\\01FCPSdata\\\\Chainlink.txt\");"
   ]
  },
  {
   "cell_type": "code",
   "execution_count": 91,
   "metadata": {},
   "outputs": [
    {
     "name": "stdout",
     "output_type": "stream",
     "text": [
      "  0.000668 seconds (136 allocations: 239.750 KiB)\n"
     ]
    }
   ],
   "source": [
    "@time doitall1(X,3,100,5,\"Chainlink_km\")"
   ]
  },
  {
   "cell_type": "code",
   "execution_count": 12,
   "metadata": {},
   "outputs": [
    {
     "name": "stdout",
     "output_type": "stream",
     "text": [
      " 14.064288 seconds (7.93 M allocations: 415.323 MiB, 2.59% gc time)\n"
     ]
    }
   ],
   "source": [
    "@time doitall2(X,2,100,5,\"Chainlink_km\")"
   ]
  },
  {
   "cell_type": "code",
   "execution_count": 96,
   "metadata": {},
   "outputs": [],
   "source": [
    "X=readdlm(\".\\\\FCPS\\\\01FCPSdata\\\\EngyTime.txt\");"
   ]
  },
  {
   "cell_type": "code",
   "execution_count": 99,
   "metadata": {},
   "outputs": [
    {
     "name": "stdout",
     "output_type": "stream",
     "text": [
      "  0.001519 seconds (112 allocations: 677.844 KiB)\n"
     ]
    }
   ],
   "source": [
    "@time doitall1(X,2,100,5,\"EngyTime_km\")"
   ]
  },
  {
   "cell_type": "code",
   "execution_count": 101,
   "metadata": {},
   "outputs": [
    {
     "name": "stdout",
     "output_type": "stream",
     "text": [
      "  0.222921 seconds (366.08 k allocations: 11.271 MiB, 3.44% gc time)\n"
     ]
    }
   ],
   "source": [
    "@time doitall2(X,2,100,2.7,\"EngyTime_km\")"
   ]
  },
  {
   "cell_type": "code",
   "execution_count": 22,
   "metadata": {},
   "outputs": [],
   "source": [
    "X=readdlm(\".\\\\toy_example_w_o_density.txt\");"
   ]
  },
  {
   "cell_type": "code",
   "execution_count": 23,
   "metadata": {},
   "outputs": [
    {
     "name": "stdout",
     "output_type": "stream",
     "text": [
      "  0.035999 seconds (807 allocations: 10.789 MiB)\n"
     ]
    }
   ],
   "source": [
    "@time doitall1(X,5,100,3,\"toy_example_km\")"
   ]
  },
  {
   "cell_type": "code",
   "execution_count": 8,
   "metadata": {},
   "outputs": [
    {
     "name": "stdout",
     "output_type": "stream",
     "text": [
      "  4.818944 seconds (4.23 M allocations: 205.365 MiB, 1.65% gc time)\n"
     ]
    }
   ],
   "source": [
    "@time doitall2(X,5,100,3,\"toy_example_km\")"
   ]
  },
  {
   "cell_type": "code",
   "execution_count": 21,
   "metadata": {},
   "outputs": [],
   "source": [
    "X=readdlm(\".\\\\FCPS\\\\01FCPSdata\\\\Chainlink.txt\");"
   ]
  },
  {
   "cell_type": "code",
   "execution_count": null,
   "metadata": {},
   "outputs": [],
   "source": []
  }
 ],
 "metadata": {
  "kernelspec": {
   "display_name": "Julia 0.6.4",
   "language": "julia",
   "name": "julia-0.6"
  },
  "language_info": {
   "file_extension": ".jl",
   "mimetype": "application/julia",
   "name": "julia",
   "version": "0.6.4"
  }
 },
 "nbformat": 4,
 "nbformat_minor": 2
}
