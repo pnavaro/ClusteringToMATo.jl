{
 "cells": [
  {
   "cell_type": "code",
   "execution_count": 1,
   "metadata": {},
   "outputs": [],
   "source": [
    "#using Distances, Plots, DataStructures, NearestNeighbors\n",
    "#include(\"ClusteringFunctions.jl\")\n",
    "#include(\"ClusteringFunctions_1.0.jl\")\n",
    "gr();"
   ]
  },
  {
   "cell_type": "code",
   "execution_count": 1,
   "metadata": {},
   "outputs": [],
   "source": [
    "#workspace()"
   ]
  },
  {
   "cell_type": "code",
   "execution_count": null,
   "metadata": {
    "scrolled": true
   },
   "outputs": [],
   "source": [
    "include(\"ToMaTo.jl\")\n",
    "using ToMaTo, Plots"
   ]
  },
  {
   "cell_type": "code",
   "execution_count": 1,
   "metadata": {},
   "outputs": [],
   "source": [
    "Sp=readdlm(\".\\\\spiral_w_o_density.txt\");"
   ]
  },
  {
   "cell_type": "code",
   "execution_count": 2,
   "metadata": {},
   "outputs": [
    {
     "data": {
      "text/plain": [
       "114562"
      ]
     },
     "execution_count": 2,
     "metadata": {},
     "output_type": "execute_result"
    }
   ],
   "source": [
    "size(Sp,1)"
   ]
  },
  {
   "cell_type": "code",
   "execution_count": 1,
   "metadata": {},
   "outputs": [
    {
     "ename": "LoadError",
     "evalue": "\u001b[91mUndefVarError: scatter not defined\u001b[39m",
     "output_type": "error",
     "traceback": [
      "\u001b[91mUndefVarError: scatter not defined\u001b[39m",
      ""
     ]
    }
   ],
   "source": [
    "spiral=scatter(Sp[:,1],Sp[:,2],ms=0.02,aspect_ratio=:equal,markerstrokewidth=0.1,label=\"\");"
   ]
  },
  {
   "cell_type": "code",
   "execution_count": 23,
   "metadata": {},
   "outputs": [],
   "source": [
    "savefig(spiral,\"spiral_o\")"
   ]
  },
  {
   "cell_type": "code",
   "execution_count": 3,
   "metadata": {},
   "outputs": [],
   "source": [
    "#@time S,u=data2clust(Sp,1,5,0.01)"
   ]
  },
  {
   "cell_type": "code",
   "execution_count": 4,
   "metadata": {},
   "outputs": [],
   "source": [
    "#G=createGraph2(Sp,87);"
   ]
  },
  {
   "cell_type": "code",
   "execution_count": 5,
   "metadata": {},
   "outputs": [],
   "source": [
    "#f=densityf(Sp,87);"
   ]
  },
  {
   "cell_type": "code",
   "execution_count": 6,
   "metadata": {},
   "outputs": [
    {
     "name": "stdout",
     "output_type": "stream",
     "text": [
      " 69.754553 seconds (472.96 M allocations: 11.347 GiB, 5.24% gc time)\n"
     ]
    }
   ],
   "source": [
    "#@time S=Clustering(G,f,7.5*10.0^(-7));"
   ]
  },
  {
   "cell_type": "code",
   "execution_count": 10,
   "metadata": {},
   "outputs": [
    {
     "name": "stdout",
     "output_type": "stream",
     "text": [
      " 60.111338 seconds (411.60 M allocations: 13.744 GiB, 6.47% gc time)\n"
     ]
    },
    {
     "data": {
      "text/plain": [
       "2-element Array{Tuple{Int64,Array{Int64,1}},1}:\n",
       " (20924, [20924, 20812, 21050, 21049, 20867, 20868, 21258, 8381, 20611, 21471  …  114191, 114449, 117, 2, 114349, 152, 114389, 232, 114527, 1])           \n",
       " (105954, [105954, 105955, 106085, 97929, 105952, 97792, 98109, 97517, 105953, 97864  …  58549, 102880, 114558, 273, 114080, 57879, 114305, 209, 97, 210])"
      ]
     },
     "execution_count": 10,
     "metadata": {},
     "output_type": "execute_result"
    }
   ],
   "source": [
    "@time S=data2clust(Sp,2,87,87,7.5*10.0^(-7))"
   ]
  },
  {
   "cell_type": "code",
   "execution_count": 110,
   "metadata": {},
   "outputs": [
    {
     "name": "stdout",
     "output_type": "stream",
     "text": [
      "  0.012409 seconds (235.90 k allocations: 7.317 MiB)\n"
     ]
    },
    {
     "data": {
      "text/plain": [
       "(114562, Plot{Plots.GRBackend() n=2})"
      ]
     },
     "execution_count": 110,
     "metadata": {},
     "output_type": "execute_result"
    }
   ],
   "source": [
    "@time points,plt=ToMaTo.PlotClustering(Sp,S)"
   ]
  },
  {
   "cell_type": "code",
   "execution_count": 111,
   "metadata": {},
   "outputs": [],
   "source": [
    "plt=annotate!(Sp[20924,1],Sp[20924,2],text(\"X\"));\n",
    "#plt=annotate!(Sp[20924,1]+100,Sp[20924,2]-100,text(\"20924\"));\n",
    "plt=annotate!(Sp[105954,1],Sp[105954,2],text(\"X\"));"
   ]
  },
  {
   "cell_type": "code",
   "execution_count": 112,
   "metadata": {},
   "outputs": [],
   "source": [
    "savefig(plt,\"spiral\")"
   ]
  },
  {
   "cell_type": "code",
   "execution_count": 7,
   "metadata": {},
   "outputs": [],
   "source": [
    "toy=readdlm(\".\\\\toy_example.txt\");"
   ]
  },
  {
   "cell_type": "code",
   "execution_count": 8,
   "metadata": {},
   "outputs": [],
   "source": [
    "toyp=toy[:,1:2];\n",
    "f=toy[:,3];"
   ]
  },
  {
   "cell_type": "code",
   "execution_count": 10,
   "metadata": {},
   "outputs": [],
   "source": [
    "savefig(scatter(toyp[:,1],toyp[:,2],ms=3,aspect_ratio=:equal,markerstrokewidth=0.1,label=\"\"),\"toy_example_o\")"
   ]
  },
  {
   "cell_type": "code",
   "execution_count": 9,
   "metadata": {},
   "outputs": [
    {
     "name": "stdout",
     "output_type": "stream",
     "text": [
      "  6.053906 seconds (49.10 M allocations: 1.508 GiB, 14.10% gc time)\n"
     ]
    },
    {
     "data": {
      "text/plain": [
       "5-element Array{Tuple{Int64,Array{Int64,1}},1}:\n",
       " (5822, [5822, 3099, 374, 5007, 6029, 6166, 5652, 8434, 9533, 9473  …  8146, 6956, 8077, 6984, 5454, 7374, 5335, 8432, 5292, 8349])\n",
       " (6251, [6251, 6497, 6030, 8422, 1942, 4740, 7965, 4608, 1880, 9441  …  3366, 2562, 1712, 6913, 5628, 152, 6897, 4572, 7794, 7162])\n",
       " (4381, [4381, 7789, 4471, 7084, 7904, 873, 7156, 8124, 712, 4644  …  8953, 749, 4359, 9032, 1535, 9655, 300, 8782, 9208, 8896])   \n",
       " (9230, [9230, 5848, 1139, 3739, 6867, 2394, 4749, 2543, 4175, 6939  …  48, 1946, 2702, 722, 2969, 3569, 1342, 2328, 3608, 191])   \n",
       " (8382, [8382, 8427, 1637, 689, 8320, 6907, 615, 2228, 7346, 5405  …  4916, 7518, 5273, 4888, 4091, 398, 2855, 3396, 9492, 4849])  "
      ]
     },
     "execution_count": 9,
     "metadata": {},
     "output_type": "execute_result"
    }
   ],
   "source": [
    "@time S2=data2clust(toyp,2,2,30,0.005)"
   ]
  },
  {
   "cell_type": "code",
   "execution_count": 107,
   "metadata": {},
   "outputs": [
    {
     "data": {
      "text/plain": [
       "(10000, Plot{Plots.GRBackend() n=5})"
      ]
     },
     "execution_count": 107,
     "metadata": {},
     "output_type": "execute_result"
    }
   ],
   "source": [
    "points,plt=ToMaTo.PlotClustering(toyp,S2,3)"
   ]
  },
  {
   "cell_type": "code",
   "execution_count": 108,
   "metadata": {},
   "outputs": [],
   "source": [
    "#=\n",
    "for i=1:5\n",
    "    roots=S2[i][1]\n",
    "    plt=annotate!(toyp[roots,1],toyp[roots,2],text(\"X\"));\n",
    "end"
   ]
  },
  {
   "cell_type": "code",
   "execution_count": 109,
   "metadata": {},
   "outputs": [],
   "source": [
    "savefig(plt,\"toy_example\")"
   ]
  },
  {
   "cell_type": "code",
   "execution_count": 53,
   "metadata": {},
   "outputs": [
    {
     "data": {
      "text/plain": [
       "5822"
      ]
     },
     "execution_count": 53,
     "metadata": {},
     "output_type": "execute_result"
    }
   ],
   "source": [
    "S2[1][1]"
   ]
  },
  {
   "cell_type": "code",
   "execution_count": 11,
   "metadata": {},
   "outputs": [
    {
     "data": {
      "text/plain": [
       "5"
      ]
     },
     "execution_count": 11,
     "metadata": {},
     "output_type": "execute_result"
    }
   ],
   "source": []
  },
  {
   "cell_type": "code",
   "execution_count": null,
   "metadata": {},
   "outputs": [],
   "source": []
  }
 ],
 "metadata": {
  "kernelspec": {
   "display_name": "Julia 1.6.3",
   "language": "julia",
   "name": "julia-1.6"
  },
  "language_info": {
   "file_extension": ".jl",
   "mimetype": "application/julia",
   "name": "julia",
   "version": "1.6.3"
  }
 },
 "nbformat": 4,
 "nbformat_minor": 2
}
