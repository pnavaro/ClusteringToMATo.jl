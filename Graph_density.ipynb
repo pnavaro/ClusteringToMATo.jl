{
 "cells": [
  {
   "cell_type": "code",
   "execution_count": 185,
   "metadata": {},
   "outputs": [
    {
     "data": {
      "text/plain": [
       "powermethod (generic function with 3 methods)"
      ]
     },
     "execution_count": 185,
     "metadata": {},
     "output_type": "execute_result"
    }
   ],
   "source": [
    "function powermethod(A,error=10.0^(-12),maxitr=200)\n",
    "    dim=size(A,2)\n",
    "    u=rand(dim)\n",
    "    large=0.0\n",
    "    itr=0\n",
    "    err=1\n",
    "    while(err>error || itr<maxitr)\n",
    "        mu=Array{Float64,1}(dim)\n",
    "        v=A*u;\n",
    "        mu=norm(v,2);\n",
    "        err=abs(large-mu)\n",
    "        large=copy(mu)\n",
    "        #print(large,\" \")\n",
    "        u=v/mu;\n",
    "        itr=itr+1\n",
    "    end\n",
    "    return large, u\n",
    "end"
   ]
  },
  {
   "cell_type": "code",
   "execution_count": 186,
   "metadata": {},
   "outputs": [],
   "source": [
    "using LightGraphs"
   ]
  },
  {
   "cell_type": "code",
   "execution_count": 239,
   "metadata": {},
   "outputs": [],
   "source": [
    "T=Int.(readdlm(\".\\\\facebook_combined.txt\"));"
   ]
  },
  {
   "cell_type": "code",
   "execution_count": 240,
   "metadata": {},
   "outputs": [
    {
     "data": {
      "text/plain": [
       "4038"
      ]
     },
     "execution_count": 240,
     "metadata": {},
     "output_type": "execute_result"
    }
   ],
   "source": [
    "G=Graph()\n",
    "add_vertices!(G,maximum(T))"
   ]
  },
  {
   "cell_type": "code",
   "execution_count": 241,
   "metadata": {},
   "outputs": [],
   "source": [
    "for i = 1:size(T,1)\n",
    "    add_edge!(G,T[i,1],T[i,2])\n",
    "end"
   ]
  },
  {
   "cell_type": "code",
   "execution_count": 242,
   "metadata": {},
   "outputs": [],
   "source": [
    "aG=Array{Array{Int64,1},1}()\n",
    "for i in vertices(G)\n",
    "    push!(aG,(neighbors(G,i)))\n",
    "end"
   ]
  },
  {
   "cell_type": "code",
   "execution_count": 243,
   "metadata": {},
   "outputs": [
    {
     "data": {
      "text/plain": [
       "4038×4038 Array{Int64,2}:\n",
       " -16   0    0   0    0   0    0   0    0  …    0   0   0   0   0   0   0   0\n",
       "   0  -9    0   0    0   0    0   0    0       0   0   0   0   0   0   0   0\n",
       "   0   0  -16   0    0   0    0   0    1       0   0   0   0   0   0   0   0\n",
       "   0   0    0  -9    0   0    0   0    0       0   0   0   0   0   0   0   0\n",
       "   0   0    0   0  -12   0    0   0    0       0   0   0   0   0   0   0   0\n",
       "   0   0    0   0    0  -5    0   0    0  …    0   0   0   0   0   0   0   0\n",
       "   0   0    0   0    0   0  -19   0    0       0   0   0   0   0   0   0   0\n",
       "   0   0    0   0    0   0    0  -7    0       0   0   0   0   0   0   0   0\n",
       "   0   0    1   0    0   0    0   0  -56       0   0   0   0   0   0   0   0\n",
       "   0   0    0   0    0   0    0   0    0       0   0   0   0   0   0   0   0\n",
       "   0   0    0   0    0   0    0   0    0  …    0   0   0   0   0   0   0   0\n",
       "   0   0    0   0    0   0    0   0    0       0   0   0   0   0   0   0   0\n",
       "   0   0    0   0    0   0    0   0    0       0   0   0   0   0   0   0   0\n",
       "   ⋮                     ⋮                ⋱    ⋮                   ⋮        \n",
       "   0   0    0   0    0   0    0   0    0       1   1   0   0   0   0   0   1\n",
       "   0   0    0   0    0   0    0   0    0       0   0   0   0   0   0   0   0\n",
       "   0   0    0   0    0   0    0   0    0       0   0   0   0   0   0   0   0\n",
       "   0   0    0   0    0   0    0   0    0       0   0   0   0   0   0   0   0\n",
       "   0   0    0   0    0   0    0   0    0  …  -11   0   0   0   0   0   0   1\n",
       "   0   0    0   0    0   0    0   0    0       0  -2   0   0   0   0   0   0\n",
       "   0   0    0   0    0   0    0   0    0       0   0  -3   0   0   0   0   0\n",
       "   0   0    0   0    0   0    0   0    0       0   0   0  -2   0   0   0   0\n",
       "   0   0    0   0    0   0    0   0    0       0   0   0   0  -1   0   0   0\n",
       "   0   0    0   0    0   0    0   0    0  …    0   0   0   0   0  -2   0   0\n",
       "   0   0    0   0    0   0    0   0    0       0   0   0   0   0   0  -4   0\n",
       "   0   0    0   0    0   0    0   0    0       1   0   0   0   0   0   0  -9"
      ]
     },
     "execution_count": 243,
     "metadata": {},
     "output_type": "execute_result"
    }
   ],
   "source": [
    "A=-Array(laplacian_matrix(G))"
   ]
  },
  {
   "cell_type": "code",
   "execution_count": 244,
   "metadata": {},
   "outputs": [
    {
     "data": {
      "text/plain": [
       "(1045.0047357535175, [-9.43905e-10, -7.3898e-21, 1.10618e-11, -1.73589e-15, 6.22983e-12, -1.65111e-21, -9.12655e-10, -4.87384e-21, -9.48957e-10, 8.16224e-12  …  2.95941e-12, 2.95113e-12, -2.94878e-9, 2.9567e-12, 2.95941e-12, 2.95667e-12, 2.95941e-12, 2.95941e-12, 2.9567e-12, 8.62759e-12])"
      ]
     },
     "execution_count": 244,
     "metadata": {},
     "output_type": "execute_result"
    }
   ],
   "source": [
    "large,u=powermethod(A)"
   ]
  },
  {
   "cell_type": "code",
   "execution_count": 245,
   "metadata": {},
   "outputs": [
    {
     "data": {
      "text/plain": [
       "PlotClustering (generic function with 2 methods)"
      ]
     },
     "execution_count": 245,
     "metadata": {},
     "output_type": "execute_result"
    }
   ],
   "source": [
    "include(\"ClusteringFunctions.jl\")"
   ]
  },
  {
   "cell_type": "code",
   "execution_count": 246,
   "metadata": {},
   "outputs": [],
   "source": [
    "using Distances, Plots, DataStructures, NearestNeighbors"
   ]
  },
  {
   "cell_type": "code",
   "execution_count": 248,
   "metadata": {},
   "outputs": [
    {
     "name": "stdout",
     "output_type": "stream",
     "text": [
      "  0.173681 seconds (838.40 k allocations: 26.474 MiB, 14.29% gc time)\n"
     ]
    },
    {
     "data": {
      "text/plain": [
       "1-element Array{Tuple{Int64,Array{Int64,1}},1}:\n",
       " (107, [107, 1358, 1374, 1313, 1179, 1320, 1574, 1692, 1237, 1536  …  483, 428, 475, 1465, 376, 1718, 414, 1577, 348, 1684])"
      ]
     },
     "execution_count": 248,
     "metadata": {},
     "output_type": "execute_result"
    }
   ],
   "source": [
    "@time S=Clustering(aG,u,0.00001)"
   ]
  },
  {
   "cell_type": "code",
   "execution_count": 225,
   "metadata": {},
   "outputs": [
    {
     "data": {
      "text/plain": [
       "312"
      ]
     },
     "execution_count": 225,
     "metadata": {},
     "output_type": "execute_result"
    }
   ],
   "source": []
  },
  {
   "cell_type": "code",
   "execution_count": null,
   "metadata": {},
   "outputs": [],
   "source": []
  }
 ],
 "metadata": {
  "kernelspec": {
   "display_name": "Julia 0.6.4",
   "language": "julia",
   "name": "julia-0.6"
  },
  "language_info": {
   "file_extension": ".jl",
   "mimetype": "application/julia",
   "name": "julia",
   "version": "0.6.4"
  }
 },
 "nbformat": 4,
 "nbformat_minor": 2
}
