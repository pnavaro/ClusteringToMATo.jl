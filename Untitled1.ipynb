{
 "cells": [
  {
   "cell_type": "code",
   "execution_count": 32,
   "metadata": {},
   "outputs": [],
   "source": [
    "using LightGraphs,Compose, GraphPlot, Colors"
   ]
  },
  {
   "cell_type": "code",
   "execution_count": 46,
   "metadata": {},
   "outputs": [
    {
     "name": "stderr",
     "output_type": "stream",
     "text": [
      "\u001b[1m\u001b[36mINFO: \u001b[39m\u001b[22m\u001b[36mPrecompiling module GraphIO.\n",
      "\u001b[39m"
     ]
    }
   ],
   "source": [
    "using GraphIO"
   ]
  },
  {
   "cell_type": "code",
   "execution_count": 28,
   "metadata": {},
   "outputs": [
    {
     "data": {
      "text/plain": [
       "{1200, 2398} undirected simple Int64 graph"
      ]
     },
     "execution_count": 28,
     "metadata": {},
     "output_type": "execute_result"
    }
   ],
   "source": [
    "g=WheelGraph(1200)"
   ]
  },
  {
   "cell_type": "code",
   "execution_count": 49,
   "metadata": {},
   "outputs": [
    {
     "name": "stderr",
     "output_type": "stream",
     "text": [
      "\u001b[1m\u001b[36mINFO: \u001b[39m\u001b[22m\u001b[36mCloning cache of SimpleWeightedGraphs from https://github.com/JuliaGraphs/SimpleWeightedGraphs.jl.git\n",
      "\u001b[39m\u001b[1m\u001b[36mINFO: \u001b[39m\u001b[22m\u001b[36mInstalling SimpleWeightedGraphs v0.4.1\n",
      "\u001b[39m\u001b[1m\u001b[36mINFO: \u001b[39m\u001b[22m\u001b[36mBuilding CodecZlib\n",
      "\u001b[39m\u001b[1m\u001b[36mINFO: \u001b[39m\u001b[22m\u001b[36mPackage database updated\n",
      "\u001b[39m\u001b[1m\u001b[36mINFO: \u001b[39m\u001b[22m\u001b[36mMETADATA is out-of-date — you may not have the latest version of SimpleWeightedGraphs\n",
      "\u001b[39m\u001b[1m\u001b[36mINFO: \u001b[39m\u001b[22m\u001b[36mUse `Pkg.update()` to get the latest versions of your packages\n",
      "\u001b[39m"
     ]
    }
   ],
   "source": [
    "Pkg.add(\"SimpleWeightedGraphs\")"
   ]
  },
  {
   "cell_type": "code",
   "execution_count": 47,
   "metadata": {},
   "outputs": [
    {
     "data": {
      "text/plain": [
       "1"
      ]
     },
     "execution_count": 47,
     "metadata": {},
     "output_type": "execute_result"
    }
   ],
   "source": [
    "savegraph(\".\\\\testlist.txt\",g,\"test\", EdgeListFormat())"
   ]
  },
  {
   "cell_type": "code",
   "execution_count": 52,
   "metadata": {},
   "outputs": [],
   "source": [
    "using SimpleWeightedGraphs"
   ]
  },
  {
   "cell_type": "code",
   "execution_count": 53,
   "metadata": {},
   "outputs": [
    {
     "data": {
      "text/plain": [
       "{35, 0} directed simple Int64 graph with Float64 weights"
      ]
     },
     "execution_count": 53,
     "metadata": {},
     "output_type": "execute_result"
    }
   ],
   "source": [
    "g=SimpleWeightedDiGraph(35)"
   ]
  },
  {
   "cell_type": "code",
   "execution_count": 56,
   "metadata": {},
   "outputs": [
    {
     "data": {
      "text/plain": [
       "118×3 Array{Int64,2}:\n",
       "  1  12  4\n",
       "  1  18  9\n",
       "  2  10  7\n",
       "  2  12  1\n",
       "  2  13  1\n",
       "  2  14  1\n",
       "  2  18  1\n",
       "  3  10  2\n",
       "  3  13  2\n",
       "  3  18  2\n",
       "  3  25  2\n",
       "  4  10  4\n",
       "  4  12  1\n",
       "  ⋮       \n",
       " 34  14  1\n",
       " 34  18  7\n",
       " 34  20  2\n",
       " 35   2  1\n",
       " 35   6  1\n",
       " 35  10  2\n",
       " 35  12  2\n",
       " 35  13  1\n",
       " 35  14  4\n",
       " 35  18  1\n",
       " 35  25  2\n",
       " 35  32  3"
      ]
     },
     "execution_count": 56,
     "metadata": {},
     "output_type": "execute_result"
    }
   ],
   "source": [
    "edges = Int.(readdlm(\".\\\\arcs.txt\"))"
   ]
  },
  {
   "cell_type": "code",
   "execution_count": 57,
   "metadata": {},
   "outputs": [
    {
     "name": "stderr",
     "output_type": "stream",
     "text": [
      "\u001b[1m\u001b[33mWARNING: \u001b[39m\u001b[22m\u001b[33mNote: adding edges to this graph type is not performant.\u001b[39m\n"
     ]
    }
   ],
   "source": [
    "for i=1:118\n",
    "    add_edge!(g,edges[i,1],edges[i,2],edges[i,3])\n",
    "end"
   ]
  },
  {
   "cell_type": "code",
   "execution_count": 63,
   "metadata": {},
   "outputs": [
    {
     "data": {
      "text/plain": [
       "35×35 SparseMatrixCSC{Int64,Int64} with 118 stored entries:\n",
       "  [7 ,  1]  =  1\n",
       "  [9 ,  1]  =  1\n",
       "  [8 ,  2]  =  1\n",
       "  [16,  2]  =  1\n",
       "  [35,  2]  =  1\n",
       "  [24,  3]  =  1\n",
       "  [29,  3]  =  1\n",
       "  [9 ,  5]  =  1\n",
       "  [28,  5]  =  1\n",
       "  [24,  6]  =  1\n",
       "  ⋮\n",
       "  [4 , 32]  =  1\n",
       "  [8 , 32]  =  1\n",
       "  [11, 32]  =  1\n",
       "  [16, 32]  =  1\n",
       "  [24, 32]  =  1\n",
       "  [29, 32]  =  1\n",
       "  [35, 32]  =  1\n",
       "  [7 , 33]  =  1\n",
       "  [9 , 33]  =  1\n",
       "  [24, 33]  =  1\n",
       "  [24, 35]  =  1"
      ]
     },
     "execution_count": 63,
     "metadata": {},
     "output_type": "execute_result"
    }
   ],
   "source": [
    "A=adjacency_matrix(g)"
   ]
  },
  {
   "cell_type": "code",
   "execution_count": 72,
   "metadata": {},
   "outputs": [
    {
     "data": {
      "text/plain": [
       "35×35 SparseMatrixCSC{Float64,Int64} with 118 stored entries:\n",
       "  [12,  1]  =  4.0\n",
       "  [18,  1]  =  9.0\n",
       "  [10,  2]  =  7.0\n",
       "  [12,  2]  =  1.0\n",
       "  [13,  2]  =  1.0\n",
       "  [14,  2]  =  1.0\n",
       "  [18,  2]  =  1.0\n",
       "  [10,  3]  =  2.0\n",
       "  [13,  3]  =  2.0\n",
       "  [18,  3]  =  2.0\n",
       "  ⋮\n",
       "  [18, 34]  =  7.0\n",
       "  [20, 34]  =  2.0\n",
       "  [2 , 35]  =  1.0\n",
       "  [6 , 35]  =  1.0\n",
       "  [10, 35]  =  2.0\n",
       "  [12, 35]  =  2.0\n",
       "  [13, 35]  =  1.0\n",
       "  [14, 35]  =  4.0\n",
       "  [18, 35]  =  1.0\n",
       "  [25, 35]  =  2.0\n",
       "  [32, 35]  =  3.0"
      ]
     },
     "execution_count": 72,
     "metadata": {},
     "output_type": "execute_result"
    }
   ],
   "source": [
    "B=(g.weights)"
   ]
  },
  {
   "cell_type": "code",
   "execution_count": null,
   "metadata": {},
   "outputs": [],
   "source": []
  }
 ],
 "metadata": {
  "kernelspec": {
   "display_name": "Julia 0.6.4",
   "language": "julia",
   "name": "julia-0.6"
  },
  "language_info": {
   "file_extension": ".jl",
   "mimetype": "application/julia",
   "name": "julia",
   "version": "0.6.4"
  }
 },
 "nbformat": 4,
 "nbformat_minor": 2
}
