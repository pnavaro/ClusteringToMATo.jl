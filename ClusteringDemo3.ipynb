{
 "cells": [
  {
   "cell_type": "code",
   "execution_count": 1,
   "metadata": {},
   "outputs": [
    {
     "name": "stderr",
     "output_type": "stream",
     "text": [
      "\u001b[1m\u001b[36mINFO: \u001b[39m\u001b[22m\u001b[36mPrecompiling module Plots.\n",
      "\u001b[39m\u001b[1m\u001b[36mINFO: \u001b[39m\u001b[22m\u001b[36mRecompiling stale cache file C:\\Users\\User\\.julia\\lib\\v0.6\\GR.ji for module GR.\n",
      "\u001b[39m"
     ]
    }
   ],
   "source": [
    "using Distances, Plots, DataStructures, NearestNeighbors\n",
    "include(\"ClusteringFunctions.jl\")\n",
    "gr();"
   ]
  },
  {
   "cell_type": "code",
   "execution_count": 2,
   "metadata": {},
   "outputs": [],
   "source": [
    "Sp=readdlm(\".\\\\spiral_w_o_density.txt\");"
   ]
  },
  {
   "cell_type": "code",
   "execution_count": 3,
   "metadata": {},
   "outputs": [
    {
     "data": {
      "text/plain": [
       "114562"
      ]
     },
     "execution_count": 3,
     "metadata": {},
     "output_type": "execute_result"
    }
   ],
   "source": [
    "size(Sp,1)"
   ]
  },
  {
   "cell_type": "code",
   "execution_count": 22,
   "metadata": {},
   "outputs": [],
   "source": [
    "spiral=scatter(Sp[:,1],Sp[:,2],ms=0.02,aspect_ratio=:equal);"
   ]
  },
  {
   "cell_type": "code",
   "execution_count": 23,
   "metadata": {},
   "outputs": [],
   "source": [
    "savefig(spiral,\"spiral_o\")"
   ]
  },
  {
   "cell_type": "code",
   "execution_count": 3,
   "metadata": {},
   "outputs": [],
   "source": [
    "#@time S,u=data2clust(Sp,1,5,0.01)"
   ]
  },
  {
   "cell_type": "code",
   "execution_count": 4,
   "metadata": {},
   "outputs": [],
   "source": [
    "#G=createGraph2(Sp,87);"
   ]
  },
  {
   "cell_type": "code",
   "execution_count": 5,
   "metadata": {},
   "outputs": [],
   "source": [
    "#f=densityf(Sp,87);"
   ]
  },
  {
   "cell_type": "code",
   "execution_count": 6,
   "metadata": {},
   "outputs": [
    {
     "name": "stdout",
     "output_type": "stream",
     "text": [
      " 69.754553 seconds (472.96 M allocations: 11.347 GiB, 5.24% gc time)\n"
     ]
    }
   ],
   "source": [
    "#@time S=Clustering(G,f,7.5*10.0^(-7));"
   ]
  },
  {
   "cell_type": "code",
   "execution_count": 14,
   "metadata": {},
   "outputs": [
    {
     "data": {
      "text/plain": [
       "2-element Array{Any,1}:\n",
       " (20924, [20924, 20812, 21050, 21049, 20867, 20868, 21258, 8381, 20611, 21471  …  114191, 114449, 117, 2, 114349, 152, 114389, 232, 114527, 1])           \n",
       " (105954, [105954, 105955, 106085, 97929, 105952, 97792, 98109, 97517, 105953, 97864  …  58549, 102880, 114558, 273, 114080, 57879, 114305, 209, 97, 210])"
      ]
     },
     "execution_count": 14,
     "metadata": {},
     "output_type": "execute_result"
    }
   ],
   "source": [
    "@time S=data2clust(Sp,2,87,87,7.5*10.0^(-7))"
   ]
  },
  {
   "cell_type": "code",
   "execution_count": 15,
   "metadata": {},
   "outputs": [
    {
     "data": {
      "text/plain": [
       "(114562, Plot{Plots.GRBackend() n=2})"
      ]
     },
     "execution_count": 15,
     "metadata": {},
     "output_type": "execute_result"
    },
    {
     "name": "stdout",
     "output_type": "stream",
     "text": [
      " 60.041207 seconds (411.73 M allocations: 13.754 GiB, 7.86% gc time)\n"
     ]
    }
   ],
   "source": [
    "points,plt=PlotClustering(Sp,S)"
   ]
  },
  {
   "cell_type": "code",
   "execution_count": 5,
   "metadata": {},
   "outputs": [],
   "source": [
    "savefig(plt,\"spiral\")"
   ]
  },
  {
   "cell_type": "code",
   "execution_count": 16,
   "metadata": {},
   "outputs": [],
   "source": [
    "toy=readdlm(\".\\\\toy_example.txt\");"
   ]
  },
  {
   "cell_type": "code",
   "execution_count": 17,
   "metadata": {},
   "outputs": [],
   "source": [
    "toyp=toy[:,1:2];\n",
    "f=toy[:,3];"
   ]
  },
  {
   "cell_type": "code",
   "execution_count": 28,
   "metadata": {},
   "outputs": [
    {
     "data": {
      "text/plain": [
       "1-element Array{Any,1}:\n",
       " (5799, [5799, 8320, 9319, 4065, 6977, 5530, 2228, 117, 9457, 5  …  2328, 3608, 9208, 4091, 8896, 191, 398, 9492, 3396, 4849])"
      ]
     },
     "execution_count": 28,
     "metadata": {},
     "output_type": "execute_result"
    }
   ],
   "source": [
    "S=data2clust(toyp,2,10,100,0.005)"
   ]
  },
  {
   "cell_type": "code",
   "execution_count": 24,
   "metadata": {},
   "outputs": [
    {
     "data": {
      "text/plain": [
       "(10000, Plot{Plots.GRBackend() n=1})"
      ]
     },
     "execution_count": 24,
     "metadata": {},
     "output_type": "execute_result"
    }
   ],
   "source": [
    "points,plt=PlotClustering(toyp,S,3)"
   ]
  },
  {
   "cell_type": "code",
   "execution_count": 25,
   "metadata": {},
   "outputs": [],
   "source": [
    "savefig(plt,\"toy_example\")"
   ]
  }
 ],
 "metadata": {
  "kernelspec": {
   "display_name": "Julia 0.6.4",
   "language": "julia",
   "name": "julia-0.6"
  },
  "language_info": {
   "file_extension": ".jl",
   "mimetype": "application/julia",
   "name": "julia",
   "version": "0.6.4"
  }
 },
 "nbformat": 4,
 "nbformat_minor": 2
}
